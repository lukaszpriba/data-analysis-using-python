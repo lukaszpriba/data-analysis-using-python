{
 "cells": [
  {
   "cell_type": "markdown",
   "metadata": {},
   "source": [
    "# Introduction to GeoPandas\n",
    "\n",
    "\n",
    "## Table of Contents\n",
    "\n",
    "1. [GeoDataFrame](#GeoDataFrames)<br>\n",
    "2. [Attributes and methods](#attributes)<br>\n",
    "3. [Points vs Lines vs Polygons](#geometry)<br>\n",
    "4. [Overlay](#overlay)<br>\n",
    "5. [Buffer](#buffer)<br>\n",
    "6. [Spatial relationships](#spatial)<br>\n",
    "7. [London boroughs](#boroughs)<br>\n",
    "    7.1. [Load geospatial data](#load1)<br>\n",
    "    7.2. [Explore data](#explore1)<br>\n",
    "    7.3. [Dissolve](#dissolve)<br>\n",
    "    7.4. [Join](#join)<br>\n",
    "8. [Open Street Map data (OSM)](#osm)<br>\n",
    "    8.1. [Load data](#load2)<br>\n",
    "    8.2. [Explore data](#explore2)<br>\n"
   ],
   "execution_count": null,
   "outputs": []
  },
  {
   "cell_type": "markdown",
   "metadata": {},
   "source": [
    "<div class=\"alert alert-danger\" style=\"font-size:100%\">\n",
    "If you are using <b>Watson Studio</b> to run the workshop you will need to add the project token to your notebook that you created earlier to be able to access the shape files from your Cloud Object Store (COS). \n",
    "\n",
    "Click the 3 dots at the top right side of the notebook to insert the project token. This will create a new cell in the notebook that you will need to run first before continuing with the rest of the notebook. If you are sharing this notebook you should remove this cell, else anyone can use you Cloud Object Storage from this project.\n",
    "\n",
    "If you cannot find the new cell it is probably at the top of this notebook. Scroll up, run the cell and continue with the rest of the notebook below.\n",
    "\n",
    "</div> "
   ],
   "execution_count": null,
   "outputs": []
  },
  {
   "cell_type": "code",
   "execution_count": null,
   "metadata": {},
   "outputs": [],
   "source": [
    "import pandas as pd\n",
    "import geopandas as gpd\n",
    "\n",
    "from shapely.geometry import Point, LineString, Polygon\n",
    "import matplotlib.pyplot as plt\n",
    "\n",
    "%matplotlib inline"
   ]
  },
  {
   "cell_type": "markdown",
   "metadata": {},
   "source": [
    "<a id=\"GeoDataFrames\"></a>\n",
    "## 1. GeoDataFrame\n",
    "GeoPandas extends two of its main data structures namely **GeoSeries** and **GeoDataFrame** from pandas. GeoSeries, much like pandas' *Series* is a vector in which each entry represents one or more shapes corresponding to a row. GeoDataFrame, much like pandas' *DataFrame* is a two dimensional data structure that has a column which is the GeoSeries along with other information. The GeoSeries column within the GeoDataFrame is referred to as the *geometry* of it. \n",
    "\n"
   ],
   "execution_count": null,
   "outputs": []
  },
  {
   "cell_type": "markdown",
   "metadata": {},
   "source": [
    "Below the latitude and longitude of 5 cities are used to create a `POINT` geometry variable that is used to create a `GeoDataFrame` from a `DataFrame`: "
   ],
   "execution_count": null,
   "outputs": []
  },
  {
   "cell_type": "code",
   "execution_count": null,
   "metadata": {},
   "outputs": [],
   "source": [
    "df = pd.DataFrame({'city':       ['London','Manchester','Birmingham','Leeds','Glasgow'],\n",
    "        'population': [9787426,  2553379,     2440986,    1777934, 1209143],\n",
    "        'area':       [1737.9,   630.3,       598.9,      487.8,   368.5 ],\n",
    "        'latitude':   [51.50853, 53.48095,    52.48142,   53.79648,55.86515],\n",
    "        'longitude':  [-0.12574, -2.23743,    -1.89983,   -1.54785,-4.25763]})\n",
    "\n",
    "df.head()"
   ]
  },
  {
   "cell_type": "code",
   "execution_count": null,
   "metadata": {},
   "outputs": [],
   "source": [
    "df['point']  = list(zip(df.longitude, df.latitude))\n",
    "df['geometry'] = df['point'].apply(Point)\n",
    "df.head()"
   ]
  },
  {
   "cell_type": "code",
   "execution_count": null,
   "metadata": {},
   "outputs": [],
   "source": [
    "df = df.drop('point', 1)\n",
    "cities = gpd.GeoDataFrame(df, geometry='geometry')\n",
    "cities.head()"
   ]
  },
  {
   "cell_type": "markdown",
   "metadata": {},
   "source": [
    "<a id=\"attributes\"></a>\n",
    "## 2. Attributes and methods \n",
    "But there are additional methods you can use from the [geopandas documentation](http://geopandas.org/data_structures.html#overview-of-attributes-and-methods)):\n",
    "\n",
    "We can explore a few of these with the cities data:"
   ],
   "execution_count": null,
   "outputs": []
  },
  {
   "cell_type": "markdown",
   "metadata": {},
   "source": [
    "\n",
    "As `cities` is still a DataFrame you can apply the same data manipulations, for instance:"
   ],
   "execution_count": null,
   "outputs": []
  },
  {
   "cell_type": "code",
   "execution_count": null,
   "metadata": {},
   "outputs": [],
   "source": [
    "cities['population'].mean()"
   ]
  },
  {
   "cell_type": "code",
   "execution_count": null,
   "metadata": {},
   "outputs": [],
   "source": [
    "cities['area'].min()"
   ]
  },
  {
   "cell_type": "code",
   "execution_count": null,
   "metadata": {},
   "outputs": [],
   "source": [
    "cities['density'] = cities['population']/cities['area']\n",
    "cities"
   ]
  },
  {
   "cell_type": "code",
   "execution_count": null,
   "metadata": {},
   "outputs": [],
   "source": [
    "cities.area"
   ]
  },
  {
   "cell_type": "code",
   "execution_count": null,
   "metadata": {},
   "outputs": [],
   "source": [
    "cities.total_bounds"
   ]
  },
  {
   "cell_type": "code",
   "execution_count": null,
   "metadata": {},
   "outputs": [],
   "source": [
    "cities.geom_type"
   ]
  },
  {
   "cell_type": "code",
   "execution_count": null,
   "metadata": {},
   "outputs": [],
   "source": [
    "cities.distance(cities.geometry[0])"
   ]
  },
  {
   "cell_type": "code",
   "execution_count": null,
   "metadata": {},
   "outputs": [],
   "source": [
    "cities2 = cities.copy()\n",
    "cities2 = cities2.drop([2,3])\n",
    "cities2.head()"
   ]
  },
  {
   "cell_type": "code",
   "execution_count": null,
   "metadata": {},
   "outputs": [],
   "source": [
    "cities2.area"
   ]
  },
  {
   "cell_type": "code",
   "execution_count": null,
   "metadata": {},
   "outputs": [],
   "source": [
    "cities2.bounds"
   ]
  },
  {
   "cell_type": "code",
   "execution_count": null,
   "metadata": {},
   "outputs": [],
   "source": [
    "cities2.geom_type"
   ]
  },
  {
   "cell_type": "code",
   "execution_count": null,
   "metadata": {},
   "outputs": [],
   "source": [
    "cities2.centroid"
   ]
  },
  {
   "cell_type": "code",
   "execution_count": null,
   "metadata": {
    "scrolled": true
   },
   "outputs": [],
   "source": [
    "cities2.representative_point()"
   ]
  },
  {
   "cell_type": "markdown",
   "metadata": {},
   "source": [
    "<a id=\"geometry\"></a>\n",
    "## 3. Points vs Lines vs Polygons\n",
    "For the other attributes and methods we need some more data. \n",
    "\n",
    "\n",
    "\n",
    "\n"
   ],
   "execution_count": null,
   "outputs": []
  },
  {
   "cell_type": "markdown",
   "metadata": {},
   "source": [
    "* A point by squeezing out the geometry"
   ],
   "execution_count": null,
   "outputs": []
  },
  {
   "cell_type": "code",
   "execution_count": null,
   "metadata": {},
   "outputs": [],
   "source": [
    "lon_point = cities.loc[cities['city'] == 'London', 'geometry'].squeeze()\n",
    "man_point = cities.loc[cities['city'] == 'Manchester', 'geometry'].squeeze()\n",
    "birm_point = cities.loc[cities['city'] == 'Birmingham', 'geometry'].squeeze()\n",
    "leeds_point = cities.loc[cities['city'] == 'Leeds', 'geometry'].squeeze()"
   ]
  },
  {
   "cell_type": "markdown",
   "metadata": {},
   "source": [
    "* A line between 2 cities by creating a LineString between 2 points"
   ],
   "execution_count": null,
   "outputs": []
  },
  {
   "cell_type": "code",
   "execution_count": null,
   "metadata": {},
   "outputs": [],
   "source": [
    "lon_man_line = gpd.GeoSeries(LineString([lon_point, man_point]))\n",
    "man_birm_line = gpd.GeoSeries(LineString([man_point, birm_point]))\n",
    "birm_lon_line = gpd.GeoSeries(LineString([birm_point,lon_point]))\n",
    "leeds_man_line = gpd.GeoSeries(LineString([leeds_point, man_point]))\n",
    "birm_leeds_line = gpd.GeoSeries(LineString([birm_point,leeds_point]))"
   ]
  },
  {
   "cell_type": "markdown",
   "metadata": {},
   "source": [
    "* A polygon between 3 cities by creating a Polygon between 3 points"
   ],
   "execution_count": null,
   "outputs": []
  },
  {
   "cell_type": "code",
   "execution_count": null,
   "metadata": {},
   "outputs": [],
   "source": [
    "Polygon([[lon_point.x,lon_point.y],[man_point.x,man_point.y],[lon_point.x,lon_point.y]])\n",
    "lon_man_birm_polygon = gpd.GeoSeries(Polygon([[lon_point.x,lon_point.y],[man_point.x,man_point.y],[birm_point.x,birm_point.y],[lon_point.x,lon_point.y]]))\n",
    "leeds_man_birm_polygon = gpd.GeoSeries(Polygon([[leeds_point.x,leeds_point.y],[man_point.x,man_point.y],[birm_point.x,birm_point.y]]))"
   ]
  },
  {
   "cell_type": "markdown",
   "metadata": {},
   "source": [
    "And plot all of them together:"
   ],
   "execution_count": null,
   "outputs": []
  },
  {
   "cell_type": "code",
   "execution_count": null,
   "metadata": {
    "scrolled": true
   },
   "outputs": [],
   "source": [
    "fig, (poly1,poly2) = plt.subplots(ncols=2, sharex=True, sharey=True)\n",
    "\n",
    "lon_man_birm_polygon.plot(ax=poly1, color='lightblue', edgecolor='black',alpha=0.5);\n",
    "lon_man_line.plot(ax=poly1,color='violet',alpha=0.5);\n",
    "man_birm_line.plot(ax=poly1,color='blue',alpha=0.5);\n",
    "birm_lon_line.plot(ax=poly1,color='green',alpha=0.5);\n",
    "\n",
    "leeds_man_birm_polygon.plot(ax=poly2, color='yellow', edgecolor='black',alpha=0.5);\n",
    "leeds_man_line.plot(ax=poly2,color='red',alpha=0.5);\n",
    "man_birm_line.plot(ax=poly2,color='blue',alpha=0.5);\n",
    "birm_leeds_line.plot(ax=poly2,color='green',alpha=0.5);"
   ]
  },
  {
   "cell_type": "markdown",
   "metadata": {},
   "source": [
    "With these new shapes let's explore some more methods."
   ],
   "execution_count": null,
   "outputs": []
  },
  {
   "cell_type": "markdown",
   "metadata": {},
   "source": [
    "<a id=\"overlay\"></a>\n",
    "## 4. Overlay\n",
    "To observe interactions between more than one datasets, we use the overlay library. *union*, *difference*, *symmetrical difference* and *intersection* are some of the operations that can be performed. \n",
    "\n",
    "\n",
    "Below is a graph showing the union of the two polygons displayed in teh graph above."
   ],
   "execution_count": null,
   "outputs": []
  },
  {
   "cell_type": "code",
   "execution_count": null,
   "metadata": {
    "scrolled": true
   },
   "outputs": [],
   "source": [
    "poly1 = gpd.GeoDataFrame({'geometry': lon_man_birm_polygon})\n",
    "poly2 = gpd.GeoDataFrame({'geometry': leeds_man_birm_polygon})\n",
    "\n",
    "poly1.union(poly2).plot(color='red',alpha=0.5);"
   ]
  },
  {
   "cell_type": "markdown",
   "metadata": {},
   "source": [
    "<a id=\"buffer\"></a>\n",
    "## 5. Buffer\n"
   ],
   "execution_count": null,
   "outputs": []
  },
  {
   "cell_type": "markdown",
   "metadata": {},
   "source": [
    "* Circles around the cities by adding a buffer around the points\n",
    "Polygons can be of any shape as you will see later in the workshop, using circles here as a quick example. "
   ],
   "execution_count": null,
   "outputs": []
  },
  {
   "cell_type": "code",
   "execution_count": null,
   "metadata": {},
   "outputs": [],
   "source": [
    "cities1 = cities[0:1].copy()\n",
    "cities1.head()"
   ]
  },
  {
   "cell_type": "code",
   "execution_count": null,
   "metadata": {},
   "outputs": [],
   "source": [
    "base = cities1.buffer(3).plot(color='blue',alpha=0.5);\n",
    "cities1.buffer(2).plot(ax=base,color='green',alpha=0.5);\n",
    "cities1.buffer(1).plot(ax=base,color='yellow',alpha=0.5);\n",
    "cities1.plot(ax=base,color='red',alpha=0.5);"
   ]
  },
  {
   "cell_type": "markdown",
   "metadata": {},
   "source": [
    "<a id=\"spatial\"></a>\n",
    "## 6. Spatial relationships\n",
    "\n",
    "What can you do with geospatial relationships?  \n",
    "\n",
    "There are several functions to check geospatial relationships between geometries: `equals`, `contains`, `crosses`, `disjoint`,`intersects`,`overlaps`,`touches`,`within` and `covers`. These all use the `shapely` package about which you can read more [here](https://shapely.readthedocs.io/en/stable/manual.html#predicates-and-relationships) and some more background on spatial relationships [here](https://en.wikipedia.org/wiki/Spatial_relation).\n",
    "\n",
    "A few examples:"
   ],
   "execution_count": null,
   "outputs": []
  },
  {
   "cell_type": "code",
   "execution_count": null,
   "metadata": {},
   "outputs": [],
   "source": [
    "cities.head()"
   ]
  },
  {
   "cell_type": "code",
   "execution_count": null,
   "metadata": {},
   "outputs": [],
   "source": [
    "cities2.head()"
   ]
  },
  {
   "cell_type": "code",
   "execution_count": null,
   "metadata": {},
   "outputs": [],
   "source": [
    "cities.contains(cities2)"
   ]
  },
  {
   "cell_type": "code",
   "execution_count": null,
   "metadata": {},
   "outputs": [],
   "source": [
    "cities2.contains(lon_point)"
   ]
  },
  {
   "cell_type": "code",
   "execution_count": null,
   "metadata": {},
   "outputs": [],
   "source": [
    "cities2[cities2.contains(lon_point)]"
   ]
  },
  {
   "cell_type": "code",
   "execution_count": null,
   "metadata": {},
   "outputs": [],
   "source": [
    "cities2[cities2.contains(man_point)]"
   ]
  },
  {
   "cell_type": "markdown",
   "metadata": {},
   "source": [
    "The inverse of `contains`:"
   ],
   "execution_count": null,
   "outputs": []
  },
  {
   "cell_type": "code",
   "execution_count": null,
   "metadata": {},
   "outputs": [],
   "source": [
    "cities[cities.within(cities2)]"
   ]
  },
  {
   "cell_type": "code",
   "execution_count": null,
   "metadata": {},
   "outputs": [],
   "source": [
    "cities2.intersects(lon_man_line)"
   ]
  },
  {
   "cell_type": "code",
   "execution_count": null,
   "metadata": {},
   "outputs": [],
   "source": [
    "cities2[cities2.crosses(man_birm_line)]"
   ]
  },
  {
   "cell_type": "code",
   "execution_count": null,
   "metadata": {},
   "outputs": [],
   "source": [
    "cities2[cities2.disjoint(lon_point)]"
   ]
  },
  {
   "cell_type": "markdown",
   "metadata": {},
   "source": [
    "<a id=\"boroughs\"></a>\n",
    "## 7. London boroughs\n",
    "\n"
   ],
   "execution_count": null,
   "outputs": []
  },
  {
   "cell_type": "markdown",
   "metadata": {},
   "source": [
    "<a id=\"load1\"></a>\n",
    "### 7.1 Load geospatial data\n",
    "\n",
    "Geospatial data comes in many formats, but with GeoPandas you can read most files with just one command. For example this geojson file with the London boroughs: \n",
    "\n"
   ],
   "execution_count": null,
   "outputs": []
  },
  {
   "cell_type": "code",
   "execution_count": null,
   "metadata": {},
   "outputs": [],
   "source": [
    "# load data from a url\n",
    "boroughs = gpd.read_file(\"https://skgrange.github.io/www/data/london_boroughs.json\")\n",
    "boroughs.head()"
   ]
  },
  {
   "cell_type": "markdown",
   "metadata": {},
   "source": [
    "<a id=\"explore1\"></a>\n",
    "### 7.2 Explore  data"
   ],
   "execution_count": null,
   "outputs": []
  },
  {
   "cell_type": "code",
   "execution_count": null,
   "metadata": {},
   "outputs": [],
   "source": [
    "boroughs.plot();"
   ]
  },
  {
   "cell_type": "markdown",
   "metadata": {},
   "source": [
    "Adding a column will colour the map based on the classes in this column:"
   ],
   "execution_count": null,
   "outputs": []
  },
  {
   "cell_type": "code",
   "execution_count": null,
   "metadata": {},
   "outputs": [],
   "source": [
    "boroughs.plot(column='code');"
   ]
  },
  {
   "cell_type": "code",
   "execution_count": null,
   "metadata": {},
   "outputs": [],
   "source": [
    "boroughs.plot(column='area_hectares');"
   ]
  },
  {
   "cell_type": "markdown",
   "metadata": {},
   "source": [
    "<a id=\"dissolve\"></a>\n",
    "### 7.3 Dissolve"
   ],
   "execution_count": null,
   "outputs": []
  },
  {
   "cell_type": "markdown",
   "metadata": {},
   "source": [
    "The boroughs are made up of many districts that you might want to combine. For this example this can be done by adding a new column and then use `.dissolve()`:"
   ],
   "execution_count": null,
   "outputs": []
  },
  {
   "cell_type": "code",
   "execution_count": null,
   "metadata": {},
   "outputs": [],
   "source": [
    "boroughs['all'] = 1\n",
    "allboroughs = boroughs.dissolve(by='all',aggfunc='sum')\n",
    "allboroughs.head()"
   ]
  },
  {
   "cell_type": "code",
   "execution_count": null,
   "metadata": {},
   "outputs": [],
   "source": [
    "allboroughs.plot();"
   ]
  },
  {
   "cell_type": "markdown",
   "metadata": {},
   "source": [
    "To change the size of the map and remove the box around the map, run the below:"
   ],
   "execution_count": null,
   "outputs": []
  },
  {
   "cell_type": "code",
   "execution_count": null,
   "metadata": {},
   "outputs": [],
   "source": [
    "[fig, ax] = plt.subplots(1, figsize=(10, 6))\n",
    "allboroughs.plot(ax=ax);\n",
    "ax.axis('off');"
   ]
  },
  {
   "cell_type": "markdown",
   "metadata": {},
   "source": [
    "<a id=\"join\"></a>\n",
    "### 7.4 Join"
   ],
   "execution_count": null,
   "outputs": []
  },
  {
   "cell_type": "markdown",
   "metadata": {},
   "source": [
    "Let's combine the data from the Pandas notebook with the boroughs GeoDataFrame:"
   ],
   "execution_count": null,
   "outputs": []
  },
  {
   "cell_type": "code",
   "execution_count": null,
   "metadata": {},
   "outputs": [],
   "source": [
    "df = pd.read_csv('https://raw.githubusercontent.com/IBMDeveloperUK/crime-data-workshop/master/data/london-borough-profiles.csv',encoding = 'unicode_escape')"
   ]
  },
  {
   "cell_type": "code",
   "execution_count": null,
   "metadata": {},
   "outputs": [],
   "source": [
    "df.head()"
   ]
  },
  {
   "cell_type": "code",
   "execution_count": null,
   "metadata": {},
   "outputs": [],
   "source": [
    "boroughs.head()"
   ]
  },
  {
   "cell_type": "markdown",
   "metadata": {},
   "source": [
    "The columns to join the two tables on are `code` and `Code`. To use the [`join` method](https://pandas.pydata.org/pandas-docs/stable/reference/api/pandas.DataFrame.join.html), first the index of both tables has to be set to this column. \n",
    "\n",
    "The below adds the columns from `df` to `boroughs`:"
   ],
   "execution_count": null,
   "outputs": []
  },
  {
   "cell_type": "code",
   "execution_count": null,
   "metadata": {},
   "outputs": [],
   "source": [
    "boroughs = boroughs.set_index('code').join(df.set_index('Code'))\n",
    "boroughs.head()"
   ]
  },
  {
   "cell_type": "markdown",
   "metadata": {},
   "source": [
    "Below is a map that shows two regions: Inner and Outer London\n"
   ],
   "execution_count": null,
   "outputs": []
  },
  {
   "cell_type": "code",
   "execution_count": null,
   "metadata": {},
   "outputs": [],
   "source": [
    "boroughs2 = boroughs.dissolve(by='Inner/_Outer_London',aggfunc='mean')\n",
    "boroughs2.head()"
   ]
  },
  {
   "cell_type": "code",
   "execution_count": null,
   "metadata": {},
   "outputs": [],
   "source": [
    "[fig, ax] = plt.subplots(1, figsize=(10, 6))\n",
    "boroughs2.plot(column='id', cmap='Paired', linewidth=0.5, edgecolor='black', legend=False, ax=ax);\n",
    "ax.axis('off');"
   ]
  },
  {
   "cell_type": "markdown",
   "metadata": {},
   "source": [
    "Below is a map of the average gender pay gap for each borough.\n"
   ],
   "execution_count": null,
   "outputs": []
  },
  {
   "cell_type": "code",
   "execution_count": null,
   "metadata": {},
   "outputs": [],
   "source": [
    "boroughs['paygap'] = \\\n",
    "    ((boroughs['Gross_Annual_Pay_-_Male_(2016)'] - boroughs['Gross_Annual_Pay_-_Female_(2016)'])/ \\\n",
    "    boroughs['Gross_Annual_Pay_-_Male_(2016)']) * 100\n",
    "\n",
    "[fig,ax] = plt.subplots(1, figsize=(12, 8))\n",
    "\n",
    "boroughs.plot(ax=ax, color=\"lightgrey\", edgecolor='black', linewidth=0.5)\n",
    "\n",
    "boroughs.dropna().plot(column='paygap', cmap='Reds', edgecolor='black', linewidth=0.5,\n",
    "               legend=True, ax=ax, scheme='equal_interval');\n",
    "ax.axis('off');\n",
    "ax.set_title('Gender pay gap in London (2016)');\n"
   ]
  },
  {
   "cell_type": "markdown",
   "metadata": {},
   "source": [
    "<a id=\"osm\"></a>\n",
    "## 8. Open Street Map data (OSM)\n",
    "\n",
    "<a id=\"load2\"></a>\n",
    "### 8.1 Load OSM data\n",
    "\n",
    "Data is downloaded from http://download.geofabrik.de/europe/great-britain.html and a more detailed decription of the data is [here](http://download.geofabrik.de/osm-data-in-gis-formats-free.pdf).\n",
    "\n",
    "The following code was run to extract vector data around just london and import it to a local file. \n",
    "\n",
    "``xmin, ymin, xmax, ymax = london.total_bounds <br>\n",
    "pois_all = gpd.read_file(\"../data/england-latest-free/gis_osm_pois_free_1.shp\") <br>\n",
    "pois = pois_all.cx[xmin:xmax, ymin:ymax] <br>\n",
    "pois.to_file(\"../data/london_pois.shp\") <br>``\n",
    "\n",
    "The data format is a shape file that consists of several files combined into one zip file that can be read directly with GeoPandas:"
   ],
   "execution_count": null,
   "outputs": []
  },
  {
   "cell_type": "code",
   "execution_count": null,
   "metadata": {},
   "outputs": [],
   "source": [
    "# define the helper function \n",
    "def download_file_to_local(project_filename, local_file_destination=None, project=None):\n",
    "    \"\"\"\n",
    "    Uses project-lib to get a bytearray and then downloads this file to local.\n",
    "    Requires a valid `project` object.\n",
    "    \n",
    "    Args:\n",
    "        project_filename str: the filename to be passed to get_file\n",
    "        local_file_destination: the filename for the local file if different\n",
    "        \n",
    "    Returns:\n",
    "        0 if everything worked\n",
    "    \"\"\"\n",
    "    \n",
    "    project = project\n",
    "    \n",
    "    # get the file\n",
    "    print(\"Attempting to get file {}\".format(project_filename))\n",
    "    _bytes = project.get_file(project_filename).read()\n",
    "    \n",
    "    # check for new file name, download the file\n",
    "    print(\"Downloading...\")\n",
    "    if local_file_destination==None: local_file_destination = project_filename\n",
    "    \n",
    "    with open(local_file_destination, 'wb') as f: \n",
    "        f.write(bytearray(_bytes))\n",
    "        print(\"Completed writing to {}\".format(local_file_destination))\n",
    "        \n",
    "    return 0"
   ]
  },
  {
   "cell_type": "code",
   "execution_count": null,
   "metadata": {},
   "outputs": [],
   "source": [
    "download_file_to_local('london_pois.zip', project=project)\n",
    "zipfile = \"zip://./london_pois.zip!london_pois/london_pois.dbf\"\n",
    "pois = gpd.read_file(zipfile)\n"
   ]
  },
  {
   "cell_type": "code",
   "execution_count": null,
   "metadata": {},
   "outputs": [],
   "source": [
    "pois.head()"
   ]
  },
  {
   "cell_type": "markdown",
   "metadata": {},
   "source": [
    "<a id=\"explore2\"></a>\n",
    "### 8.2 Explore OSM data"
   ],
   "execution_count": null,
   "outputs": []
  },
  {
   "cell_type": "code",
   "execution_count": null,
   "metadata": {},
   "outputs": [],
   "source": [
    "pois.size"
   ]
  },
  {
   "cell_type": "code",
   "execution_count": null,
   "metadata": {},
   "outputs": [],
   "source": [
    "pois['fclass'].unique()"
   ]
  },
  {
   "cell_type": "code",
   "execution_count": null,
   "metadata": {},
   "outputs": [],
   "source": [
    "pois.plot(column='fclass');"
   ]
  },
  {
   "cell_type": "markdown",
   "metadata": {},
   "source": [
    "Let's count and plot the number of pubs by borough by:\n",
    "\n",
    "* checking the coordinate systems of the maps to combine. They need to be the same to use them together.\n",
    "* extracting the pubs from the `pois` DataFrame\n",
    "* joining the tables into a temporary table\n",
    "* counting the number of pubs in each borough\n",
    "* merging this new table back into the `boroughs` DataFrame"
   ],
   "execution_count": null,
   "outputs": []
  },
  {
   "cell_type": "code",
   "execution_count": null,
   "metadata": {},
   "outputs": [],
   "source": [
    "pois[pois.fclass=='pub'].plot(column='fclass');"
   ]
  },
  {
   "cell_type": "markdown",
   "metadata": {},
   "source": [
    "The coordinate reference system (CRS) determines how the two-dimensional (planar) coordinates of the geometry objects should be related to actual places on the (non-planar) earth."
   ],
   "execution_count": null,
   "outputs": []
  },
  {
   "cell_type": "code",
   "execution_count": null,
   "metadata": {},
   "outputs": [],
   "source": [
    "print(pois.crs)\n",
    "print(boroughs.crs)"
   ]
  },
  {
   "cell_type": "code",
   "execution_count": null,
   "metadata": {},
   "outputs": [],
   "source": [
    "pubs = pois[pois['fclass']=='pub']\n",
    "pubs.head()"
   ]
  },
  {
   "cell_type": "code",
   "execution_count": null,
   "metadata": {},
   "outputs": [],
   "source": [
    "pubs2 = gpd.sjoin(boroughs,pubs) \n",
    "pubs2.head()"
   ]
  },
  {
   "cell_type": "code",
   "execution_count": null,
   "metadata": {},
   "outputs": [],
   "source": [
    "pubs3 = pd.pivot_table(pubs2,index='name_left',columns='fclass',aggfunc={'fclass':'count'})\n",
    "pubs3.columns = pubs3.columns.droplevel()\n",
    "pubs3 = pubs3.reset_index()\n",
    "pubs3.head()"
   ]
  },
  {
   "cell_type": "code",
   "execution_count": null,
   "metadata": {},
   "outputs": [],
   "source": [
    "boroughs = boroughs.merge(pubs3, left_on='name',right_on='name_left')\n",
    "boroughs = boroughs.drop(columns='name_left')\n",
    "boroughs.head()"
   ]
  },
  {
   "cell_type": "code",
   "execution_count": null,
   "metadata": {},
   "outputs": [],
   "source": [
    "[fig,ax] = plt.subplots(1, figsize=(12, 8))\n",
    "\n",
    "boroughs.plot(column='pub',cmap='Blues', edgecolor='black', linewidth=0.5, \n",
    "              legend=True, ax=ax, scheme='equal_interval');\n",
    "ax.axis('off');\n",
    "ax.set_title('Pubs in London');\n"
   ]
  },
  {
   "cell_type": "markdown",
   "metadata": {},
   "source": [
    "\n",
    "A different way to visualize this is with a heatmap:"
   ],
   "execution_count": null,
   "outputs": []
  },
  {
   "cell_type": "code",
   "execution_count": null,
   "metadata": {},
   "outputs": [],
   "source": [
    "import geoplot \n",
    "[fig,ax] = plt.subplots(1, figsize=(12, 8))\n",
    "\n",
    "geoplot.kdeplot(\n",
    "    pubs, clip=boroughs.geometry, n_levels=10, \n",
    "    shade=True, cmap='Greens', ax=ax)\n",
    "geoplot.polyplot(boroughs, ax=ax, alpha=1, edgecolor='black', linewidth=0.5)"
   ]
  },
  {
   "cell_type": "markdown",
   "metadata": {},
   "source": [
    "Below is a map that only shows all points of one of the POI classes for one of the boroughs\n"
   ],
   "execution_count": null,
   "outputs": []
  },
  {
   "cell_type": "code",
   "execution_count": null,
   "metadata": {},
   "outputs": [],
   "source": [
    "hotels = pois[pois['fclass']=='hotel']\n",
    "citylondon = boroughs.loc[boroughs['name'] == 'City of London', 'geometry'].squeeze()\n",
    "cityhotels = hotels[hotels.within(citylondon)]\n",
    "\n",
    "[fig,ax] = plt.subplots(1, figsize=(12, 8))\n",
    "base = boroughs.plot(color='lightblue', edgecolor='black',ax=ax);\n",
    "cityhotels.plot(ax=ax, marker='o', color='red', markersize=8);\n",
    "ax.axis('off');\n"
   ]
  },
  {
   "cell_type": "markdown",
   "metadata": {},
   "source": [
    "Below is a map showing a new POI class being added to the boroughs table."
   ],
   "execution_count": null,
   "outputs": []
  },
  {
   "cell_type": "code",
   "execution_count": null,
   "metadata": {},
   "outputs": [],
   "source": [
    "hotels2 = gpd.sjoin(boroughs,hotels) \n",
    "hotels3 = pd.pivot_table(hotels2,index='name_left',columns='fclass',aggfunc={'fclass':'count'})\n",
    "hotels3.columns = hotels3.columns.droplevel()\n",
    "hotels3 = hotels3.reset_index()\n",
    "\n",
    "boroughs = boroughs.merge(hotels3, left_on='name',right_on='name_left')\n",
    "boroughs = boroughs.drop(columns='name_left')\n",
    "\n",
    "[fig,ax] = plt.subplots(1, figsize=(12, 8))\n",
    "\n",
    "boroughs.plot(column='hotel',cmap='Blues', edgecolor='black', linewidth=0.5, \n",
    "              legend=True, ax=ax, scheme='quantiles');\n",
    "ax.axis('off');\n",
    "ax.set_title('Hotels in London');\n"
   ]
  },
  {
   "cell_type": "markdown",
   "metadata": {},
   "source": [
    "### Author\n",
    "Margriet Groenendijk is a Data & AI Developer Advocate for IBM. She develops and presents talks and workshops about data science and AI. She is active in the local developer communities through attending, presenting and organising meetups. She has a background in climate science where she explored large observational datasets of carbon uptake by forests during her PhD, and global scale weather and climate models as a postdoctoral fellow. \n",
    "\n",
    "Samaya Madhavan is an Advisory Software Engineer with IBM where she currently publishes content that are related to machine learning and deep learning. She is also a full stack software developer, experienced in offering AI based solutions within the healthcare domain. Samaya has her Bachelor of Engineering in Computer Science from College of Engineering, Guindy and her Master of Science in Computer Science from University of Texas at Arlington. She is an ardent learner and a very passionate algorithm solver.\n",
    "\n",
    "Copyright © 2019 IBM. This notebook and its source code are released under the terms of the MIT License."
   ],
   "execution_count": null,
   "outputs": []
  }
 ],
 "metadata": {
  "celltoolbar": "Raw Cell Format",
  "kernelspec": {
   "display_name": "Python 3.6",
   "language": "python",
   "name": "python3"
  },
  "language_info": {
   "codemirror_mode": {
    "name": "ipython",
    "version": 3
   },
   "file_extension": ".py",
   "mimetype": "text/x-python",
   "name": "python",
   "nbconvert_exporter": "python",
   "pygments_lexer": "ipython3",
   "version": "3.6.8"
  }
 },
 "nbformat": 4,
 "nbformat_minor": 1
}
